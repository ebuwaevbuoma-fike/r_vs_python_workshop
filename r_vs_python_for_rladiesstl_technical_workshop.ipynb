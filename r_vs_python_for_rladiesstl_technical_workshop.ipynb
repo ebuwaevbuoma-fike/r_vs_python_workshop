{
 "cells": [
  {
   "cell_type": "markdown",
   "metadata": {},
   "source": [
    "# R vs Python for Data Analytics: A Comparative Walkthrough\n",
    "### Author: Ebuwa Evbuoma-Fike, Senior Data Scientist in Healthcare\n",
    "### Last Edited: 2/3/25\n",
    "### Workshop Date: 2/8/25"
   ]
  },
  {
   "cell_type": "markdown",
   "metadata": {},
   "source": [
    "## Material for R vs Python Workshop"
   ]
  },
  {
   "cell_type": "markdown",
   "metadata": {},
   "source": [
    "### Optional Pre-Workshop Setup: Python Environment for Data Analysis"
   ]
  },
  {
   "cell_type": "markdown",
   "metadata": {},
   "source": [
    "This is an optional pre-workshop setup guide to help you set up and get familiar with the Python environment for the workshop."
   ]
  },
  {
   "cell_type": "markdown",
   "metadata": {},
   "source": [
    "**Installation**"
   ]
  },
  {
   "cell_type": "markdown",
   "metadata": {},
   "source": [
    "1. Install Anaconda/Miniconda:\n",
    "\n",
    "Conda is a popular, free, open-source package and environment management system for setting up and managing Python environments.\n",
    "\n",
    "Download and install Anaconda or Miniconda from the official website: https://www.anaconda.com/. Choose the version appropriate for your operating system (Windows, macOS, Linux).\n",
    "Note: Miniconda is a smaller, more lightweight version of Anaconda. It may have limitations.\n",
    "\n",
    "2. Install VS Code:\n",
    "\n",
    "VS Code a popular, free IDE. You are welcome to use another IDE of choice. I will be using VS Code during the workshop.\n",
    "\n",
    "Download and install VS Code from the official website: https://code.visualstudio.com/)."
   ]
  },
  {
   "cell_type": "markdown",
   "metadata": {},
   "source": [
    "**Setup**"
   ]
  },
  {
   "cell_type": "markdown",
   "metadata": {},
   "source": [
    "3. Create a working directory by either:\n",
    "\n",
    "- Saving the downloaded workshop repository from GitHub as a folder, to a specific location. Remember it. Instructions in 4a.\n",
    "\n",
    "- Cloning the GitHub repository. Instructions in 4b.(recommended)"
   ]
  },
  {
   "cell_type": "markdown",
   "metadata": {},
   "source": [
    "4a. Launch VS Code and open the named folder\n",
    "\n",
    "Click \"Open Folder\" (image below). Choose the folder designated for this workshop in Step #3.\n",
    "\n",
    "![AddFolders](adding_folders_vs_code.png)\n"
   ]
  },
  {
   "cell_type": "markdown",
   "metadata": {},
   "source": [
    "4b. Launch VS Code and clone the repository\n",
    "\n",
    "Click \"Clone Repository\" and choose a storage location (image below). Use the GitHub repo URL.\n",
    "\n",
    "![Clone](cloning_repositories_vs_code.png)\n"
   ]
  },
  {
   "cell_type": "markdown",
   "metadata": {},
   "source": [
    "5. Set up your Python environment\n",
    "\n",
    "In your terminal in VS Code (see https://code.visualstudio.com/docs/terminal/basics), run the following (sans ``):\n",
    "\n",
    "`conda env create -f rpy2_env.yml`\n",
    "\n",
    "The first line of the yml file sets the new environment's name. It ensures that the libraries, versions and dependencies are set up precisely. Sometimes, one library needs an upgraded or downgraded version of another to run - this environment has them playing nicely. \n",
    "\n",
    "Next, to activate the conda environment, run the following (sans ``):\n",
    "\n",
    "`conda activate rpy2_env`\n",
    "\n",
    "More conda documentation and commands: https://docs.conda.io/projects/conda/en/latest/commands/index.html"
   ]
  },
  {
   "cell_type": "markdown",
   "metadata": {},
   "source": [
    "6. Check your setup\n",
    "\n",
    "You should see, to the far left of the command line prompt in your terminal window `(rpy2_env)`\n",
    "\n",
    "To check your working directory, run the following (sans ``):\n",
    "\n",
    "`pwd`\n",
    "\n",
    "The printed path should match that of your folder from Step #3.\n",
    "\n",
    "To verify that the environment you have matches the provided enviroment, run the following:\n",
    "\n",
    "`conda list`\n",
    "\n",
    "The list of libraries should match the content of the yml file (double-click on `rpy2_env.yml` and it will pop up in a new tab, adjacent to this notebook.)\n",
    "\n",
    "Read the `citibike_trips_schema.xlsx` file to understand data definitions used for this workshop.\n",
    "\n",
    "This concludes the setup tutorial."
   ]
  },
  {
   "cell_type": "markdown",
   "metadata": {},
   "source": [
    "### R vs Python for Data Analytics: A Comparative Walkthrough Technical Workshop"
   ]
  },
  {
   "cell_type": "markdown",
   "metadata": {},
   "source": [
    "There are essentially two popular ways to work with R and Python in a local Python environment:\n",
    "- Work with both languages interchangeably using the rpy2 library.\n",
    "- Work distinctly in each language, using the r-essentials and rpy2 libraries."
   ]
  },
  {
   "cell_type": "markdown",
   "metadata": {},
   "source": [
    "### A. Working with R and Python, flexibly"
   ]
  },
  {
   "cell_type": "markdown",
   "metadata": {},
   "source": [
    "#### 1. Import necessary modules:"
   ]
  },
  {
   "cell_type": "code",
   "execution_count": null,
   "metadata": {},
   "outputs": [],
   "source": [
    "import rpy2.robjects as robjects \n",
    "from rpy2.robjects import pandas2ri "
   ]
  },
  {
   "cell_type": "markdown",
   "metadata": {},
   "source": [
    "#### 2. Convert Python objects to R objects:\n",
    "\n",
    "- Convert Python lists to R vectors:"
   ]
  },
  {
   "cell_type": "code",
   "execution_count": null,
   "metadata": {},
   "outputs": [],
   "source": [
    "python_list = [1, 2, 3, 4, 5] \n",
    "r_vector = robjects.IntVector(python_list) "
   ]
  },
  {
   "cell_type": "markdown",
   "metadata": {},
   "source": [
    "- Convert Python dictionaries to R lists:"
   ]
  },
  {
   "cell_type": "code",
   "execution_count": null,
   "metadata": {},
   "outputs": [],
   "source": [
    "python_dict = {'a': 1, 'b': 2, 'c': 3}\n",
    "r_list = robjects.ListVector(python_dict)"
   ]
  },
  {
   "cell_type": "markdown",
   "metadata": {},
   "source": [
    "- Convert `pandas` DataFrames to R data frames:\n",
    "\n",
    "Pandas is a popular library for advanced data manipulation in Python."
   ]
  },
  {
   "cell_type": "code",
   "execution_count": null,
   "metadata": {},
   "outputs": [],
   "source": [
    "import pandas as pd\n",
    "import numpy as np\n",
    "\n",
    "df = pd.DataFrame({'col1': np.array([1, 2, 3]), 'col2': np.array(['a', 'b', 'c'])}) \n",
    "r_df = pandas2ri.py2ri(df)"
   ]
  },
  {
   "cell_type": "markdown",
   "metadata": {},
   "source": [
    "#### 3.  Call R functions:\n",
    "\n",
    "- Use the `robjects.r()` argument to execute R code:"
   ]
  },
  {
   "cell_type": "code",
   "execution_count": null,
   "metadata": {},
   "outputs": [],
   "source": [
    "r_result = robjects.r('mean(c(1, 2, 3))') \n",
    "print(r_result[0])  # Access the result "
   ]
  },
  {
   "cell_type": "markdown",
   "metadata": {},
   "source": [
    "- Call R functions directly:"
   ]
  },
  {
   "cell_type": "code",
   "execution_count": null,
   "metadata": {},
   "outputs": [],
   "source": [
    "r_mean = robjects.r['mean'] \n",
    "r_result = r_mean(r_vector) \n",
    "print(r_result[0]) "
   ]
  },
  {
   "cell_type": "markdown",
   "metadata": {},
   "source": [
    "#### 4. Convert R objects back to Python:\n",
    "\n",
    "- Convert R vectors to Python lists:"
   ]
  },
  {
   "cell_type": "code",
   "execution_count": null,
   "metadata": {},
   "outputs": [],
   "source": [
    "python_list = list(r_vector) "
   ]
  },
  {
   "cell_type": "markdown",
   "metadata": {},
   "source": [
    "#### Example"
   ]
  },
  {
   "cell_type": "markdown",
   "metadata": {},
   "source": [
    "This example demonstrates how to convert a `pandas` DataFrame to an R data frame and then apply the `summary()` argument from R.\n",
    "\n",
    "Key Points:\n",
    "\n",
    "- R Integration: The `rpy2` library allows you to seamlessly integrate R code and Python code within the same environment.\n",
    "\n",
    "- Data Conversion: The `pandas2ri` module simplifies data conversion between pandas and R.\n",
    "\n",
    "- Flexibility: You can call R functions directly or execute R code within Python using the `rpy2.robjects.r()` argument."
   ]
  },
  {
   "cell_type": "code",
   "execution_count": null,
   "metadata": {},
   "outputs": [],
   "source": [
    "import rpy2.robjects as robjects \n",
    "from rpy2.robjects import pandas2ri \n",
    "\n",
    "# Create a pandas DataFrame\n",
    "df = pd.DataFrame({'col1': [1, 2, 3], 'col2': ['a', 'b', 'c']})\n",
    "\n",
    "# Convert to R DataFrame\n",
    "r_df = pandas2ri.py2ri(df)\n",
    "\n",
    "# Apply R's summary argument\n",
    "r_summary = robjects.r['summary'](r_df) \n",
    "\n",
    "# Print the summary of the R dataframe\n",
    "print(r_summary) "
   ]
  },
  {
   "cell_type": "markdown",
   "metadata": {},
   "source": [
    "Key problems with option A:\n",
    "\n",
    "- Planned deprecation of key modules (`pandas2ri`). This happens with package development. "
   ]
  },
  {
   "cell_type": "markdown",
   "metadata": {},
   "source": [
    "### B: Working with R and Python, distinctly"
   ]
  },
  {
   "cell_type": "code",
   "execution_count": null,
   "metadata": {},
   "outputs": [],
   "source": [
    "%load_ext rpy2.ipython"
   ]
  },
  {
   "cell_type": "markdown",
   "metadata": {},
   "source": [
    "Did that run sans errors? Great!\n",
    "\n",
    "Each time you want to use a variable with R (for example, the R dataframe `df`), you would “send” it to R using the following code:\n",
    "\n",
    "`%%R -i df `\n",
    "\n",
    "The alternative (more user-friendly, circumvents common errors) is to use the format below:\n",
    "`robjects.r('''\n",
    "    # your R code here. ''')`\n",
    "\n",
    "The docstrings approach is used in this workshop."
   ]
  },
  {
   "cell_type": "markdown",
   "metadata": {},
   "source": [
    "### Data Import"
   ]
  },
  {
   "cell_type": "markdown",
   "metadata": {},
   "source": [
    "1. In Python, load the dataset (the `.csv` file) and inspect dataset attributes.\n",
    "- Refer to the `citibike_trips_schema.xlsx` file for a data dictionary.\n",
    "- `head(x, n)`: Argument which returns the first n rows of the dataset."
   ]
  },
  {
   "cell_type": "code",
   "execution_count": null,
   "metadata": {},
   "outputs": [],
   "source": [
    "# Load dataset\n",
    "import pandas as pd\n",
    "citibike_rides = pd.read_csv(\"n_1000_citibike_trips.csv\")"
   ]
  },
  {
   "cell_type": "code",
   "execution_count": null,
   "metadata": {},
   "outputs": [],
   "source": [
    "# Inspect first n rows of the citibike_rides dataframe\n",
    "citibike_rides.head(n=5)"
   ]
  },
  {
   "cell_type": "code",
   "execution_count": null,
   "metadata": {},
   "outputs": [],
   "source": [
    "# View information on datatypes, summary statistics etc\n",
    "citibike_rides.info()\n",
    "citibike_rides.describe()"
   ]
  },
  {
   "cell_type": "markdown",
   "metadata": {},
   "source": [
    "**2. In R, load dataset (csv file) and inspect.**\n",
    "- `head(x, n)`: Argument which returns the first n rows of the dataset."
   ]
  },
  {
   "cell_type": "code",
   "execution_count": null,
   "metadata": {},
   "outputs": [],
   "source": [
    "robjects.r('''\n",
    "    # Import the data\n",
    "    citibike_rides <- read.csv(\"n_1000_citibike_trips.csv\") \n",
    "\n",
    "''') "
   ]
  },
  {
   "cell_type": "markdown",
   "metadata": {},
   "source": [
    "If you wanted to *truly* amalgamate Python and R in one chunk...\n",
    "\n",
    "- Here we call the R object, the imported dataset, `citibike_rides`, then, use the `print()` argument, in Python, to output the entire dataframe."
   ]
  },
  {
   "cell_type": "code",
   "execution_count": null,
   "metadata": {},
   "outputs": [],
   "source": [
    "# Get the R object (citibike_rides)\n",
    "r_citibike_rides = robjects.r['citibike_rides'] "
   ]
  },
  {
   "cell_type": "code",
   "execution_count": null,
   "metadata": {},
   "outputs": [],
   "source": [
    "# You can now work with the R DataFrame directly\n",
    "print(r_citibike_rides) \n"
   ]
  },
  {
   "cell_type": "markdown",
   "metadata": {},
   "source": [
    "- Next, we print a summary of the dataset. The advantage of this approach? It is legible and well-formatted."
   ]
  },
  {
   "cell_type": "code",
   "execution_count": null,
   "metadata": {},
   "outputs": [],
   "source": [
    "# Perform R operations on it:\n",
    "r_summary = robjects.r['summary'](r_citibike_rides) \n",
    "print(r_summary)"
   ]
  },
  {
   "cell_type": "markdown",
   "metadata": {},
   "source": [
    "I *do not* recommend amalgamating R and Python. Instead, use your docstrings! See below..."
   ]
  },
  {
   "cell_type": "code",
   "execution_count": null,
   "metadata": {},
   "outputs": [],
   "source": [
    "robjects.r('''\n",
    "    print(summary(citibike_rides))\n",
    "''')"
   ]
  },
  {
   "cell_type": "code",
   "execution_count": null,
   "metadata": {},
   "outputs": [],
   "source": [
    "robjects.r('''\n",
    "    # Inspect the first n rows of the dataset\n",
    "    head(citibike_rides, n= 5)\n",
    "''') "
   ]
  },
  {
   "cell_type": "markdown",
   "metadata": {},
   "source": [
    "### Data Manipulation"
   ]
  },
  {
   "cell_type": "markdown",
   "metadata": {},
   "source": [
    "**1. In Python, select specific columns and filter the dataset.**\n",
    "\n",
    "We are looking for all ride encounters with riders born after the year 1980."
   ]
  },
  {
   "cell_type": "code",
   "execution_count": null,
   "metadata": {},
   "outputs": [],
   "source": [
    "# Subset columns as in selected_columns below\n",
    "selected_columns = [\"tripduration\", \"starttime\", \"stoptime\", \"start_station_name\", \n",
    "                    \"end_station_name\", \"bikeid\", \"usertype\", \"birth_year\", \"gender\"]\n",
    "citibike_rides_subset = citibike_rides[selected_columns]\n",
    "citibike_rides_subset.head(n=10)  # Display the first n rows of the subset dataframe"
   ]
  },
  {
   "cell_type": "code",
   "execution_count": null,
   "metadata": {},
   "outputs": [],
   "source": [
    "# Filter the citibike_rides_subset dataframe to rides \n",
    "# with riders born after the year 1980\n",
    "citibike_rides_subset[citibike_rides_subset[\"birth_year\"] > 1980]"
   ]
  },
  {
   "cell_type": "markdown",
   "metadata": {},
   "source": [
    "**2. In R, select specific columns and filter the dataset.**\n",
    "\n",
    "We are looking for all ride encounters with riders born after the year 1980.\n",
    "(base R equivalent of dplyr::filter)\n",
    "\n",
    "After the workshop, you can use:\n",
    "\n",
    "- filter() from dplyr\n",
    "- select() from dplyr"
   ]
  },
  {
   "cell_type": "code",
   "execution_count": null,
   "metadata": {},
   "outputs": [],
   "source": [
    "robjects.r('''\n",
    "    # Select specific columns from the dataset\n",
    "    selected_columns <- c(\"tripduration\", \"starttime\", \"stoptime\", \n",
    "                         \"start_station_name\", \"end_station_name\", \n",
    "                         \"bikeid\", \"usertype\", \"birth_year\", \"gender\")\n",
    "    citibike_rides_selected <- citibike_rides[, selected_columns] \n",
    "''') \n"
   ]
  },
  {
   "cell_type": "code",
   "execution_count": null,
   "metadata": {},
   "outputs": [],
   "source": [
    "robjects.r('''\n",
    "    # Inspect the data\n",
    "    head(citibike_rides_selected, n= 5)\n",
    "''') "
   ]
  },
  {
   "cell_type": "code",
   "execution_count": null,
   "metadata": {},
   "outputs": [],
   "source": [
    "robjects.r('''\n",
    "    # Filter the dataset\n",
    "    citibike_rides_selected[citibike_rides_selected$birth_year > 1990, ]\n",
    "\n",
    "''') "
   ]
  },
  {
   "cell_type": "markdown",
   "metadata": {},
   "source": [
    "### Data Transformation"
   ]
  },
  {
   "cell_type": "markdown",
   "metadata": {},
   "source": [
    "**1. In Python, transform data types (object to string) and create a new column, \"age\", calculated by subtracting birth_year from the current year at the time of this workshop.**"
   ]
  },
  {
   "cell_type": "code",
   "execution_count": null,
   "metadata": {},
   "outputs": [],
   "source": [
    "# Check the column data types using the `.dtypes` accessor\n",
    "citibike_rides_subset.dtypes"
   ]
  },
  {
   "cell_type": "code",
   "execution_count": null,
   "metadata": {},
   "outputs": [],
   "source": [
    "# The `.columns` accessor outputs the column names in \n",
    "# our citibike_rides_subset dataframe.\n",
    "citibike_rides_subset.columns"
   ]
  },
  {
   "cell_type": "code",
   "execution_count": null,
   "metadata": {},
   "outputs": [],
   "source": [
    "# Check existing data types using the `.dtypes` accessor\n",
    "citibike_rides_subset.dtypes"
   ]
  },
  {
   "cell_type": "code",
   "execution_count": null,
   "metadata": {},
   "outputs": [],
   "source": [
    "# Change the datatype of the selected columns to category\n",
    "import pandas as pd\n",
    "citibike_rides_subset.astype({\"start_station_name\": \"category\", \n",
    "                            \"end_station_name\": \"category\", \n",
    "                            \"usertype\": \"category\", \n",
    "                            \"gender\": \"category\"}).dtypes"
   ]
  },
  {
   "cell_type": "code",
   "execution_count": null,
   "metadata": {},
   "outputs": [],
   "source": [
    "import pandas as pd\n",
    "import datetime as dt\n",
    "# Get the current year\n",
    "current_year = dt.datetime.now().year \n",
    "\n",
    "# Calculate age as current_year - birth_year\n",
    "citibike_rides_subset[\"age\"] = current_year - citibike_rides_subset[\"birth_year\"] \n",
    "\n",
    "# View content of birth_year and age for the first 5 rows\n",
    "print(citibike_rides_subset[[\"birth_year\", \"age\"]].head()) "
   ]
  },
  {
   "cell_type": "code",
   "execution_count": null,
   "metadata": {},
   "outputs": [],
   "source": [
    "# Check data type transformations using `.dtypes` accessor\n",
    "citibike_rides_subset.dtypes"
   ]
  },
  {
   "cell_type": "code",
   "execution_count": null,
   "metadata": {},
   "outputs": [],
   "source": [
    "# View the first n rows of your dataframe\n",
    "citibike_rides_subset.head(n=5)"
   ]
  },
  {
   "cell_type": "markdown",
   "metadata": {},
   "source": [
    "**2. In R, transform data types (object to character) and create a new column, \"age\", calculated by subtracting birth_year from the current year at the time of this workshop.**"
   ]
  },
  {
   "cell_type": "code",
   "execution_count": null,
   "metadata": {},
   "outputs": [],
   "source": [
    "robjects.r('''\n",
    "    # Define the columns to convert to character\n",
    "    cols_to_convert <- c(\"start_station_name\", \"end_station_name\", \"usertype\", \"gender\")\n",
    "\n",
    "    # Convert the specified columns to character\n",
    "    for (col in cols_to_convert) {\n",
    "      citibike_rides_selected[, col] <- as.character(citibike_rides_selected[, col])\n",
    "    }\n",
    "\n",
    "    # Return the modified data frame \n",
    "    head(citibike_rides_selected, n= 5)  # Return the modified data frame (n=5)\n",
    "\n",
    "''') "
   ]
  },
  {
   "cell_type": "code",
   "execution_count": null,
   "metadata": {},
   "outputs": [],
   "source": [
    "robjects.r('''\n",
    "    # Get current year\n",
    "    current_year <- as.numeric(format(Sys.Date(), \"%Y\")) \n",
    "\n",
    "    # Calculate age\n",
    "    citibike_rides_selected$age <- current_year - citibike_rides_selected$birth_year \n",
    "\n",
    "    # Return the modified data frame with the new 'age' column\n",
    "    head(citibike_rides_selected, n= 5)\n",
    "\n",
    "''') "
   ]
  },
  {
   "cell_type": "markdown",
   "metadata": {},
   "source": [
    "### Summary Statistics"
   ]
  },
  {
   "cell_type": "markdown",
   "metadata": {},
   "source": [
    "**1. In Python, find the mean age of commuters who set off from the five(5) most common start stations.** \n",
    "\n",
    "Assume a 1 to many relationship between bikeid and the other columns."
   ]
  },
  {
   "cell_type": "code",
   "execution_count": null,
   "metadata": {},
   "outputs": [],
   "source": [
    "import pandas as pd\n",
    "\n",
    "# Find the top 5 (by number of rides) most common start stations\n",
    "citibike_rides_subset[\"start_station_name\"].value_counts().head(n=5)\n",
    "\n"
   ]
  },
  {
   "cell_type": "code",
   "execution_count": null,
   "metadata": {},
   "outputs": [],
   "source": [
    "import pandas as pd\n",
    "\n",
    "# 1. Find the top 5 most common start stations, and extract their names into a list\n",
    "top_5_stations = citibike_rides_subset[\"start_station_name\"].value_counts().head(n=5).index\n",
    "\n",
    "# 2. Group the DataFrame by 'start_station_name'\n",
    "grouped_citibike_rides_subset = citibike_rides_subset.groupby(\"start_station_name\")\n",
    "\n",
    "# 3. Calculate mean age for each station in the top 5\n",
    "mean_age_by_station = {station: grouped_citibike_rides_subset.get_group(station)[\"age\"].mean() for station in top_5_stations} \n",
    "\n",
    "# Output the generated dictionary\n",
    "print(mean_age_by_station)"
   ]
  },
  {
   "cell_type": "code",
   "execution_count": null,
   "metadata": {},
   "outputs": [],
   "source": [
    "# Advanced - convert results from a dictionary to a dataframe\n",
    "# Useful for additional analyses\n",
    "import pandas as pd\n",
    "# 4. Create a DataFrame with station names and their mean ages\n",
    "results_mean_age_top_5_station = pd.DataFrame({'Station': list(mean_age_by_station.keys()), \n",
    "                          'Mean Age': list(mean_age_by_station.values())})\n",
    "\n",
    "# 5. Print the result\n",
    "print(results_mean_age_top_5_station)"
   ]
  },
  {
   "cell_type": "markdown",
   "metadata": {},
   "source": [
    "**2. In R, find the mean age of commuters who set off from the five(5) most common start stations.**\n",
    "\n",
    "Assume a 1 to many relationship between bikeid and the other columns."
   ]
  },
  {
   "cell_type": "markdown",
   "metadata": {},
   "source": [
    "Steps:\n",
    "- Find Top 5 Stations:\n",
    "    - Create a frequency table of start stations, sort the table in descending order of frequency, select the top 5 most frequent stations, extract the station names from the table.\n",
    "\n",
    "- Calculate Mean Age for Each Station:\n",
    "    - The code iterates through each of the top 5 stations, selects the rides that started at the current station, calculates the mean age of riders at the current station, handling potential missing values, and, the calculated mean age is appended to the `mean_ages` vector.\n",
    "- Create and Print Results DataFrame:\n",
    "    - A new data frame `results_mean_age_top_5_station` is created with two columns: \"Station\" and \"Mean_Age\". The results are printed to the console."
   ]
  },
  {
   "cell_type": "code",
   "execution_count": null,
   "metadata": {},
   "outputs": [],
   "source": [
    "robjects.r('''\n",
    "# Find the top 5 most frequent start stations\n",
    "top_5_stations <- names(head(sort(table(citibike_rides_selected$start_station_name), decreasing = TRUE), 5))\n",
    "\n",
    "# Create an empty list to store mean ages\n",
    "mean_ages <- c()\n",
    "\n",
    "# Calculate mean age for each of the top 5 stations\n",
    "for (station in top_5_stations) {\n",
    "  station_rides <- subset(citibike_rides_selected, start_station_name == station)\n",
    "  mean_age <- mean(station_rides$age, na.rm = TRUE) \n",
    "  mean_ages <- c(mean_ages, mean_age)\n",
    "}\n",
    "\n",
    "# Create a data frame with station names and their mean ages\n",
    "results_mean_age_top_5_station <- data.frame(Station = top_5_stations, Mean_Age = mean_ages)\n",
    "\n",
    "''') "
   ]
  },
  {
   "cell_type": "markdown",
   "metadata": {},
   "source": [
    "### Data Visualization"
   ]
  },
  {
   "cell_type": "markdown",
   "metadata": {},
   "source": [
    "**1. In Python, build a series of data visualizations, from simple to advanced.**\n",
    "\n",
    "`matplotlib` and `seaborn` (which is built on top of matplotlib) are two widely popular data visualization libraries in Python."
   ]
  },
  {
   "cell_type": "markdown",
   "metadata": {},
   "source": [
    "A. Simple Histogram: Distribution of Trip Durations\n",
    "\n",
    "We build a simple histogram to visualize the distribution of trip durations in the dataset. You can adjust the `bins` parameter to change the number of bins in the histogram."
   ]
  },
  {
   "cell_type": "code",
   "execution_count": null,
   "metadata": {},
   "outputs": [],
   "source": [
    "import matplotlib.pyplot as plt\n",
    "\n",
    "# Plot a histogram of trip durations\n",
    "plt.figure(figsize=(10, 6))\n",
    "plt.hist(citibike_rides_subset['tripduration'], bins=50, color='skyblue', edgecolor='black')\n",
    "plt.xlabel('Trip Duration (seconds)')\n",
    "plt.ylabel('Number of Trips')\n",
    "plt.title('Distribution of Trip Durations')\n",
    "plt.show()"
   ]
  },
  {
   "cell_type": "markdown",
   "metadata": {},
   "source": [
    "B. Box Plot: Trip Duration by User Type\n",
    "\n",
    "We use the `seaborn` library to create a box plot, which visually compares the distribution of trip durations for different user types (e.g., Subscriber, Customer). Box plots are useful for identifying potential outliers and comparing the spread of data across different groups."
   ]
  },
  {
   "cell_type": "code",
   "execution_count": null,
   "metadata": {},
   "outputs": [],
   "source": [
    "import seaborn as sns\n",
    "\n",
    "# Create a box plot of trip duration by user type\n",
    "sns.boxplot(x='usertype', y='tripduration', data=citibike_rides_subset)\n",
    "plt.xlabel('User Type')\n",
    "plt.ylabel('Trip Duration (seconds)')\n",
    "plt.title('Trip Duration by User Type')\n",
    "plt.show()"
   ]
  },
  {
   "cell_type": "markdown",
   "metadata": {},
   "source": [
    "C. Simple Bar Chart: Distribution of User Types\n",
    "\n",
    "This visualization will show the distribution of user types (Subscriber vs. Customer) in the dataset. Subscribers have an annual pass."
   ]
  },
  {
   "cell_type": "code",
   "execution_count": null,
   "metadata": {},
   "outputs": [],
   "source": [
    "import pandas as pd\n",
    "import matplotlib.pyplot as plt\n",
    "\n",
    "# Count occurrences of each user type\n",
    "user_type_counts = citibike_rides_subset['usertype'].value_counts()\n",
    "\n",
    "# Create a bar chart\n",
    "plt.figure(figsize=(8, 5))\n",
    "user_type_counts.plot(kind='bar', color='skyblue')\n",
    "plt.title('Distribution of User Types')\n",
    "plt.xlabel('User Type')\n",
    "plt.ylabel('Number of Rides')\n",
    "plt.xticks(rotation=360)\n",
    "plt.show()"
   ]
  },
  {
   "cell_type": "markdown",
   "metadata": {},
   "source": [
    "D. Scatter Plot with Age and Trip Duration\n",
    "\n",
    "This visualization will explore the relationship between user age and trip duration."
   ]
  },
  {
   "cell_type": "code",
   "execution_count": null,
   "metadata": {},
   "outputs": [],
   "source": [
    "import seaborn as sns\n",
    "\n",
    "# Create a scatter plot\n",
    "plt.figure(figsize=(10, 6))\n",
    "sns.scatterplot(x='age', y='tripduration', data=citibike_rides_subset, alpha=0.5)\n",
    "plt.title('Trip Duration vs. User Age')\n",
    "plt.xlabel('User Age (years)')\n",
    "plt.ylabel('Trip Duration (seconds)')\n",
    "plt.show()"
   ]
  },
  {
   "cell_type": "markdown",
   "metadata": {},
   "source": [
    "**2. In R, build a series of data visualizations, from simple to advanced.**"
   ]
  },
  {
   "cell_type": "markdown",
   "metadata": {},
   "source": [
    "A. Simple Histogram: Distribution of Trip Durations\n",
    "\n",
    "We build a simple histogram to visualize the distribution of trip durations in the dataset."
   ]
  },
  {
   "cell_type": "code",
   "execution_count": null,
   "metadata": {},
   "outputs": [],
   "source": [
    "import rpy2.robjects as robjects\n",
    "from rpy2.robjects import pandas2ri\n",
    "\n",
    "robjects.r('''\n",
    "# Create a histogram of trip durations\n",
    "hist(citibike_rides_selected$tripduration, \n",
    "     breaks = 50, \n",
    "     col = \"skyblue\", \n",
    "     border = \"black\", \n",
    "     xlab = \"Trip Duration (seconds)\", \n",
    "     ylab = \"Number of Trips\", \n",
    "     main = \"Distribution of Trip Durations\")\n",
    "\n",
    "''') "
   ]
  },
  {
   "cell_type": "markdown",
   "metadata": {},
   "source": [
    "B. Simple Bar Chart: Distribution of User Types\n",
    "\n",
    "This visualization will show the distribution of user types (Subscriber vs. Customer) in the dataset. Subscribers have an annual pass."
   ]
  },
  {
   "cell_type": "code",
   "execution_count": null,
   "metadata": {},
   "outputs": [],
   "source": [
    "import rpy2.robjects as robjects\n",
    "\n",
    "robjects.r('''\n",
    "# Count the occurrences of each user type\n",
    "user_type_counts <- table(citibike_rides_selected$usertype)\n",
    "\n",
    "# Create the bar plot\n",
    "barplot(user_type_counts, \n",
    "        main = \"Distribution of User Types\", \n",
    "        xlab = \"User Type\", \n",
    "        ylab = \"Number of Rides\", \n",
    "        col = \"lightblue\") \n",
    "\n",
    "''') "
   ]
  },
  {
   "cell_type": "markdown",
   "metadata": {},
   "source": [
    "Thanks for your attention and engagement today! You're welcome to connect with me on LinkedIn (please remember to add a message to your connection request.)"
   ]
  },
  {
   "cell_type": "code",
   "execution_count": null,
   "metadata": {},
   "outputs": [],
   "source": []
  }
 ],
 "metadata": {
  "kernelspec": {
   "display_name": "Python 3.6.13 ('rpy2_env')",
   "language": "python",
   "name": "python3"
  },
  "language_info": {
   "codemirror_mode": {
    "name": "ipython",
    "version": 3
   },
   "file_extension": ".py",
   "mimetype": "text/x-python",
   "name": "python",
   "nbconvert_exporter": "python",
   "pygments_lexer": "ipython3",
   "version": "3.6.10"
  },
  "vscode": {
   "interpreter": {
    "hash": "a0b669bbdfb4a84feddaa687d15bfec085398af37aa51d31c05c23b6318d52a0"
   }
  }
 },
 "nbformat": 4,
 "nbformat_minor": 2
}
